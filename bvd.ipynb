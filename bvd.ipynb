{
 "cells": [
  {
   "cell_type": "markdown",
   "metadata": {},
   "source": [
    "# Bias-variance decomposition for general losses"
   ]
  },
  {
   "cell_type": "markdown",
   "metadata": {},
   "source": [
    "(setting up $\\LaTeX$ macros ...)\n",
    "$\\def\\reals{\\mathbf{R}}$\n",
    "$\\def\\integers{\\mathbf{Z}}$\n",
    "$\\def\\naturals{\\mathbf{N}}$\n",
    "$\\def\\rationals{\\mathbf{Q}}$\n",
    "$\\def\\ca{\\mathcal{A}}$\n",
    "$\\def\\cb{\\mathcal{B}}$\n",
    "$\\def\\cc{\\mathcal{C}}$\n",
    "$\\def\\cd{\\mathcal{D}}$\n",
    "$\\def\\ce{\\mathcal{E}}$\n",
    "$\\def\\cf{\\mathcal{F}}$\n",
    "$\\def\\cg{\\mathcal{G}}$\n",
    "$\\def\\ch{\\mathcal{H}}$\n",
    "$\\def\\ci{\\mathcal{I}}$\n",
    "$\\def\\cj{\\mathcal{J}}$\n",
    "$\\def\\ck{\\mathcal{K}}$\n",
    "$\\def\\cl{\\mathcal{L}}$\n",
    "$\\def\\cm{\\mathcal{M}}$\n",
    "$\\def\\cn{\\mathcal{N}}$\n",
    "$\\def\\co{\\mathcal{O}}$\n",
    "$\\def\\cp{\\mathcal{P}}$\n",
    "$\\def\\cq{\\mathcal{Q}}$\n",
    "$\\def\\calr{\\mathcal{R}}$\n",
    "$\\def\\cs{\\mathcal{S}}$\n",
    "$\\def\\ct{\\mathcal{T}}$\n",
    "$\\def\\cu{\\mathcal{U}}$\n",
    "$\\def\\cv{\\mathcal{V}}$\n",
    "$\\def\\cw{\\mathcal{W}}$\n",
    "$\\def\\cx{\\mathcal{X}}$\n",
    "$\\def\\cy{\\mathcal{Y}}$\n",
    "$\\def\\cz{\\mathcal{Z}}$\n",
    "$\\def\\ind#1{1(#1)}$\n",
    "$\\def\\pr{\\mathbb{P}}$\n",
    "$\\def\\predsp{\\cy}$\n",
    "$\\def\\outsp{\\cy}$\n",
    "$\\def\\prxy{P_{\\cx\\times\\cy}}$\n",
    "$\\def\\prx{P_{\\cx}}$\n",
    "$\\def\\prygivenx{P_{\\cy\\mid\\cx}}$\n",
    "$\\def\\ex{\\mathbb{E}}$\n",
    "$\\def\\var{\\textrm{Var}}$\n",
    "$\\def\\cov{\\textrm{Cov}}$\n",
    "$\\def\\sgn{\\textrm{sgn}}$\n",
    "$\\def\\sign{\\textrm{sign}}$\n",
    "$\\def\\kl{\\textrm{KL}}$\n",
    "$\\def\\law{\\mathcal{L}}$\n",
    "$\\def\\eps{\\varepsilon}$\n",
    "$\\def\\as{\\textrm{ a.s.}}$\n",
    "$\\def\\io{\\textrm{ i.o.}}$\n",
    "$\\def\\ev{\\textrm{ ev.}}$\n",
    "$\\def\\convd{\\stackrel{d}{\\to}}$\n",
    "$\\def\\eqd{\\stackrel{d}{=}}$\n",
    "$\\def\\del{\\nabla}$\n",
    "$\\def\\loss{V}$\n",
    "$\\def\\risk{R}$\n",
    "$\\def\\emprisk{\\hat{R}_{\\ell}}$\n",
    "$\\def\\lossfnl{L}$\n",
    "$\\def\\emplossfnl{\\hat{L}}$\n",
    "$\\def\\empminimizer#1{\\hat{#1}_{\\ell}}$\n",
    "$\\def\\minimizer#1{#1_{*}}$\n",
    "$\\def\\etal{\\textrm{et. al.}}$\n",
    "$\\def\\tr{\\operatorname{tr}}$\n",
    "$\\def\\trace{\\operatorname{trace}}$\n",
    "$\\def\\diag{\\text{diag}}$\n",
    "$\\def\\rank{\\text{rank}}$\n",
    "$\\def\\linspan{\\text{span}}$\n",
    "$\\def\\proj{\\text{Proj}}$\n",
    "$\\def\\argmax{\\operatorname{arg\\, max}}$\n",
    "$\\def\\argmin{\\operatorname{arg\\, min}}$\n",
    "$\\def\\bfx{\\mathbf{x}}$\n",
    "$\\def\\bfy{\\mathbf{y}}$\n",
    "$\\def\\bfl{\\mathbf{\\lambda}}$\n",
    "$\\def\\bfm{\\mathbf{\\mu}}$\n",
    "$\\def\\calL{\\mathcal{L}}$\n",
    "$\\def\\vw{\\boldsymbol{w}}$\n",
    "$\\def\\vx{\\boldsymbol{x}}$\n",
    "$\\def\\vxi{\\boldsymbol{\\xi}}$\n",
    "$\\def\\valpha{\\boldsymbol{\\alpha}}$\n",
    "$\\def\\vbeta{\\boldsymbol{\\beta}}$\n",
    "$\\def\\vsigma{\\boldsymbol{\\sigma}}$\n",
    "$\\def\\vmu{\\boldsymbol{\\mu}}$\n",
    "$\\def\\vtheta{\\boldsymbol{\\theta}}$\n",
    "$\\def\\vd{\\boldsymbol{d}}$\n",
    "$\\def\\vs{\\boldsymbol{s}}$\n",
    "$\\def\\vt{\\boldsymbol{t}}$\n",
    "$\\def\\vh{\\boldsymbol{h}}$\n",
    "$\\def\\ve{\\boldsymbol{e}}$\n",
    "$\\def\\vf{\\boldsymbol{f}}$\n",
    "$\\def\\vg{\\boldsymbol{g}}$\n",
    "$\\def\\vz{\\boldsymbol{z}}$\n",
    "$\\def\\vk{\\boldsymbol{k}}$\n",
    "$\\def\\va{\\boldsymbol{a}}$\n",
    "$\\def\\vb{\\boldsymbol{b}}$\n",
    "$\\def\\vv{\\boldsymbol{v}}$\n",
    "$\\def\\vy{\\boldsymbol{y}}$\n",
    "$\\def\\hil{\\ch}$\n",
    "$\\def\\rkhs{\\hil}$"
   ]
  },
  {
   "cell_type": "markdown",
   "metadata": {
    "collapsed": true
   },
   "source": [
    "Note that, for any data sample $x$, the following decomposition holds for almost any loss function $\\ell(y, \\hat{y})$,\n",
    "$$\\ex[\\ell(y_{\\epsilon},\\hat{y}_{\\cd})] = \\ex[\\ell(y_{\\epsilon},\\bar{y})]\\;+\\;\\ex[\\ell(y_{\\epsilon},\\tilde{y}) - \\ell(y_{\\epsilon},\\bar{y})]\\;+\\;\\ex[\\ell(y_{\\epsilon},\\hat{y}_{\\cd}) - \\ell(y_{\\epsilon},\\tilde{y})],\\quad\\quad\\quad(1)$$\n",
    "where\n",
    "\n",
    "- $\\epsilon$ represents the stochastic perturbation in the noisy observation $y_{\\epsilon}$ around the ground-truth target $f(x)$ (here $f$ represents the ground-truth model that we wish to learn);\n",
    "\n",
    "- $\\cd$ represents the stochastically drawn training set $\\{(x_i,y_i)\\}_{i=1}^n$ on which the prediction model $\\hat{f}_{\\cd}$ is learnt, and we denote $\\hat{y}_{\\cd} \\triangleq \\hat{f}_{\\cd}(x)$ for short;\n",
    "\n",
    "    ($y_i$ here are noisy observations perturbed from $f(x_i)$ in the same way but we can safely assume $\\cd$ and $\\epsilon$ to be mutually independent)\n",
    "    \n",
    "- $\\bar{y}$ and $\\tilde{y}$ can be any arbitrary constant.\n",
    "\n",
    "Now if we compare the above with the canonical bias-variance decomposition for squared-loss (i.e. taking $\\ell_{s}(y,\\hat{y}) \\triangleq (y - \\hat{y})^2$ and assuming the perturbation to be $y_{\\epsilon} = f(x) + \\epsilon$ where $\\ex[\\epsilon]=0,\\,\\var[\\epsilon]=\\sigma^2$)\n",
    "$$\\underbrace{\\ex[(y_{\\epsilon} - \\hat{y}_{\\cd})^2]}_{\\text{expected prediction error}} = \\underbrace{\\sigma^2}_{\\text{irreducible error}}\\;+\\;\\underbrace{\\left(f(x) - \\ex[\\hat{y}_{\\cd}]\\right)^2}_{\\text{bias}}\\;+\\;\\underbrace{\\var[\\hat{y}_{\\cd}]}_{\\text{variance}},\\quad\\quad\\quad(2)$$\n",
    "it's not difficult to check that once we set\n",
    "$$\\bar{y}=\\argmin_{y'}\\ex[\\ell(y_{\\epsilon},y')]\\text{ and }\\tilde{y}=\\ex[\\hat{y}_{\\cd}]\\quad\\quad\\quad(3)$$\n",
    "in (1), the 3 terms on the r.h.s of Eq.(1) and (2) will actually happen to correspond to each other (note that $\\bar{y}=f(x)$ in this case).\n",
    "\n",
    "This implies that Eq.(1) might actually serve as a candidate bias-variance decomposition for any general loss functions. Of course, in order to retain the meanings of the 3 terms (as much as possible) we cannot really take $\\bar{y}$ and $\\tilde{y}$ to be arbitrary constants.\n",
    "\n",
    "In the following, we will examine why our choices above (Eq.(3)) might be the most reasonable ones (**even better than any published results so far ?!**).\n",
    "\n",
    "1. (**perfect**) \"irreducible error\" $\\ex[\\ell(y_{\\epsilon},\\bar{y})]$:\n",
    "\n",
    "    By choosing $\\bar{y}=\\argmin_{y'}\\ex[\\ell(y_{\\epsilon},y')]$, we guarantee that this term is already minimized (hence *irreducible*).\n",
    "    \n",
    "2. (**nearly perfect**) \"variance\" $\\ex[\\ell(y_{\\epsilon},\\hat{y}_{\\cd}) - \\ell(y_{\\epsilon},\\tilde{y})]$:\n",
    "\n",
    "    By choosing $\\tilde{y}=\\ex[\\hat{y}_{\\cd}]$, we can guarantee the *non-negativeness* of \"variance\" as long as the loss function $\\ell(y,\\hat{y})$ is *convex* (which is fairly common). Furthermore, we generalize the meaning of \"variance\" to be **\"the difference between the expected loss of model predictions and the loss of the expected model prediction\"**.\n",
    "\n",
    "3. (**perfect**) \"bias\" $\\ex[\\ell(y_{\\epsilon},\\tilde{y}) - \\ell(y_{\\epsilon},\\bar{y})]$:\n",
    "\n",
    "    Again, by choosing $\\bar{y}$ to be the $\\argmin$, we naturally guarantee this term to be *non-negative* (which otherwise is non-trivial).\n",
    "    \n",
    "    Then along with our choice of $\\tilde{y}$, we naturally generalize the meaning of \"bias\" to be **\"the difference in the loss between the expected model prediction and the best possible prediction\"**.\n",
    "\n",
    "Also note the followings\n",
    "\n",
    "- In many cases we may assume zero-noise in the observations, i.e. $\\ex[y_{\\epsilon}]=f(x), \\var[y_{\\epsilon}]=0$. Then $y_{\\epsilon}$ simply reduces to the deterministic $y$ and we can rewrite Eq.(1) as\n",
    "    $$\\ex[\\ell(y,\\hat{y}_{\\cd})] = \\ell(y,\\bar{y})\\;+\\;(\\ell(y,\\tilde{y}) - \\ell(y,\\bar{y}))\\;+\\;(\\ex[\\ell(y,\\hat{y}_{\\cd})] - \\ell(y,\\tilde{y})).$$\n",
    "    Along with $\\bar{y}=\\argmin_{y'}\\ell(y,y')$ and the fact that $\\min_{y'}\\ell(y,y')=0$ (for almost any proper loss function), we can further simplify the decomposition into\n",
    "    $$\\underbrace{\\ex[\\ell(y,\\hat{y}_{\\cd})]}_{\\text{expected prediction error}}\\;=\\; \\underbrace{\\ell(y,\\ex[\\hat{y}_{\\cd}])}_{\\text{bias}}\\;+\\;\\underbrace{\\ex[\\ell(y,\\hat{y}_{\\cd})] - \\ell(y,\\ex[\\hat{y}_{\\cd}])}_{\\text{variance}}.\\quad\\quad\\quad(4)$$\n",
    "\n",
    "- In the above discussions, we've always only concentrated on one single data sample $x$. Yet we can easily extend our results to take the data distribution $p(x)$ into consideration as well (just yet another expectation over $p(x)$)."
   ]
  },
  {
   "cell_type": "markdown",
   "metadata": {},
   "source": [
    "# Experiments"
   ]
  },
  {
   "cell_type": "code",
   "execution_count": 54,
   "metadata": {
    "scrolled": false
   },
   "outputs": [
    {
     "name": "stdout",
     "output_type": "stream",
     "text": [
      "Automatically created module for IPython interactive environment\n"
     ]
    }
   ],
   "source": [
    "print (__doc__)\n",
    "\n",
    "# Author: Minjie Xu <chokkyvista06@gmail.com>\n",
    "\n",
    "import numpy as np\n",
    "import matplotlib.pyplot as plt\n",
    "\n",
    "from sklearn.datasets import load_breast_cancer\n",
    "from sklearn.ensemble import BaggingClassifier\n",
    "from sklearn.model_selection import train_test_split\n",
    "from sklearn.tree import DecisionTreeClassifier\n",
    "from sklearn.utils import resample\n",
    "\n",
    "# Comment out if you fancy some randomness\n",
    "np.random.seed(0)\n",
    "\n",
    "# Settings\n",
    "n_repeat = 50       # Number of iterations for computing expectations\n",
    "train_size = 0.8    # Proportion of dataset to use for training\n",
    "\n",
    "estimators = [\n",
    "    (\"Tree\", DecisionTreeClassifier()),\n",
    "    (\"Bagging (Tree)\", BaggingClassifier(DecisionTreeClassifier()))\n",
    "]\n",
    "\n",
    "# Load dataset\n",
    "X, y = load_breast_cancer(return_X_y=True)\n",
    "\n",
    "\n",
    "def bvd(y, y_hat, loss_func):\n",
    "    \"\"\"Compute bias-variance decomposition according to Eq.(4).\n",
    "    \n",
    "    Args:\n",
    "        y (n x 1):            The ground-truth labels.\n",
    "        y_hat (n x n_repeat): The predicted labels by the models (one column per model).\n",
    "        loss_func:            The (vectorized) loss function.          \n",
    "\n",
    "    Returns:\n",
    "        error, bias, variance: All of size (n x 1).\n",
    "    \"\"\"\n",
    "    error = np.mean(loss_func(y, y_hat), axis=1, keepdims=1)\n",
    "    bias = loss_func(y, np.mean(y_hat, axis=1, keepdims=1))\n",
    "    variance = error - bias\n",
    "    return error, bias, variance\n",
    "\n",
    "\n",
    "def run(loss_func,\n",
    "        X=X, y=y, estimators=estimators, n_repeat=n_repeat, train_size=train_size):\n",
    "    \"\"\"Run the experiments.\n",
    "    \n",
    "    Args:\n",
    "        See above for examples.\n",
    "    \"\"\"\n",
    "    # Split the dataset into train & test, where\n",
    "    # - train: used for training models\n",
    "    #          (Each model is trained on a randomly resampled version (akin to bagging))\n",
    "    # - test: used for computing errors\n",
    "    X_train, X_test, y_train, y_test = train_test_split(X, y, train_size=train_size)\n",
    "    X_trains, y_trains = zip(*[resample(X_train, y_train) for _ in xrange(n_repeat)])\n",
    "    y_train = y_train[:, np.newaxis]   # reshape into n_train x 1 (for broadcasting)\n",
    "    y_test = y_test[:, np.newaxis]     # reshape into n_test x 1\n",
    "    n_test = y_test.shape[0]\n",
    "\n",
    "    plt.figure(figsize=(16,6))\n",
    "    idx_test = range(n_test)\n",
    "    bar_width = 1\n",
    "    for n, (name, estimator) in enumerate(estimators):\n",
    "        # Train models & make predictions\n",
    "        y_hat_train = []\n",
    "        y_hat_test = []\n",
    "        for i in range(n_repeat):\n",
    "            estimator.fit(X_trains[i], y_trains[i])\n",
    "            y_hat_train.append(estimator.predict(X_train))\n",
    "            y_hat_test.append(estimator.predict(X_test))\n",
    "        y_hat_train = np.transpose(np.vstack(y_hat_train))   # n_train x n_repeat\n",
    "        y_hat_test = np.transpose(np.vstack(y_hat_test))     # n_test x n_repeat\n",
    "\n",
    "        # Compute bias-variance decomposition\n",
    "        error_train, bias_train, variance_train = bvd(y_train, y_hat_train, loss_func)\n",
    "        error_test, bias_test, variance_test = bvd(y_test, y_hat_test, loss_func)\n",
    "        \n",
    "        # Compute actual variance\n",
    "        var_train = np.var(y_hat_train, axis=1)\n",
    "        var_test = np.var(y_hat_test, axis=1)\n",
    "\n",
    "        # Print results\n",
    "        print(\"%s (train): %.4f (error) = %.4f (bias) + %.4f (var), actual variance = %.4f\" % \\\n",
    "              (name, np.mean(error_train), np.mean(bias_train), np.mean(variance_train), np.mean(var_train)))\n",
    "        print(\"%s (train): %.4f (error) = %.4f (bias) + %.4f (var), actual variance = %.4f\" % \\\n",
    "              (name, np.mean(error_test), np.mean(bias_test), np.mean(variance_test), np.mean(var_test)))\n",
    "\n",
    "        # Plot results\n",
    "        plt.subplot(1, len(estimators), n + 1)\n",
    "        p1 = plt.bar(idx_test, bias_test, bar_width, color='#d62728')\n",
    "        p2 = plt.bar(idx_test, variance_test, bar_width, bottom=bias_test)\n",
    "        plt.xlabel(\"$x$: test samples\")\n",
    "        plt.ylabel(\"$error(x)$\")\n",
    "        plt.title(name)\n",
    "        plt.legend((p1[0], p2[0]), (\"$bias(x)$\", \"$var(x)$\"))\n",
    "\n",
    "    plt.show()"
   ]
  },
  {
   "cell_type": "markdown",
   "metadata": {},
   "source": [
    "## Polynomial loss\n",
    "\n",
    "$\\ell_{p}(y, \\hat{y}) \\triangleq \\lvert y - \\hat{y} \\lvert^{\\,p}$, where $y,\\hat{y}\\in\\reals$."
   ]
  },
  {
   "cell_type": "code",
   "execution_count": 55,
   "metadata": {},
   "outputs": [],
   "source": [
    "import functools\n",
    "\n",
    "def poly_loss(y, y_hat, p, binary_classification=False):\n",
    "    if binary_classification:\n",
    "        assert set(y.ravel()).issubset(set((0,1)))\n",
    "        y_hat = y_hat >= 0.5\n",
    "    return np.abs(y - y_hat)**p"
   ]
  },
  {
   "cell_type": "code",
   "execution_count": 56,
   "metadata": {},
   "outputs": [
    {
     "name": "stdout",
     "output_type": "stream",
     "text": [
      "Tree (train): 0.0298 (error) = 0.0053 (bias) + 0.0244 (var), actual variance = 0.0244\n",
      "Tree (train): 0.0821 (error) = 0.0316 (bias) + 0.0505 (var), actual variance = 0.0505\n",
      "Bagging (Tree) (train): 0.0242 (error) = 0.0057 (bias) + 0.0186 (var), actual variance = 0.0186\n",
      "Bagging (Tree) (train): 0.0577 (error) = 0.0275 (bias) + 0.0302 (var), actual variance = 0.0302\n"
     ]
    },
    {
     "data": {
      "image/png": "[encoded data removed]",
      "text/plain": [
       "<matplotlib.figure.Figure at 0xd0a22e8>"
      ]
     },
     "metadata": {},
     "output_type": "display_data"
    }
   ],
   "source": [
    "# Test squared-loss (as in a regression setting)\n",
    "run(loss_func=functools.partial(poly_loss, p=2))"
   ]
  },
  {
   "cell_type": "code",
   "execution_count": 57,
   "metadata": {},
   "outputs": [
    {
     "name": "stdout",
     "output_type": "stream",
     "text": [
      "Tree (train): 0.0290 (error) = 0.0000 (bias) + 0.0290 (var), actual variance = 0.0239\n",
      "Tree (train): 0.0691 (error) = 0.0439 (bias) + 0.0253 (var), actual variance = 0.0351\n",
      "Bagging (Tree) (train): 0.0236 (error) = 0.0000 (bias) + 0.0236 (var), actual variance = 0.0183\n",
      "Bagging (Tree) (train): 0.0481 (error) = 0.0263 (bias) + 0.0218 (var), actual variance = 0.0211\n"
     ]
    },
    {
     "data": {
      "image/png": "[encoded data removed]",
      "text/plain": [
       "<matplotlib.figure.Figure at 0xb9d2630>"
      ]
     },
     "metadata": {},
     "output_type": "display_data"
    }
   ],
   "source": [
    "# Test squared-loss (as in a binary classification setting)\n",
    "run(loss_func=functools.partial(poly_loss, p=2, binary_classification=True))"
   ]
  },
  {
   "cell_type": "code",
   "execution_count": 58,
   "metadata": {},
   "outputs": [
    {
     "name": "stdout",
     "output_type": "stream",
     "text": [
      "Tree (train): 0.0251 (error) = 0.0000 (bias) + 0.0251 (var), actual variance = 0.0211\n",
      "Tree (train): 0.0877 (error) = 0.0789 (bias) + 0.0088 (var), actual variance = 0.0411\n",
      "Bagging (Tree) (train): 0.0236 (error) = 0.0000 (bias) + 0.0236 (var), actual variance = 0.0186\n",
      "Bagging (Tree) (train): 0.0749 (error) = 0.0702 (bias) + 0.0047 (var), actual variance = 0.0269\n"
     ]
    },
    {
     "data": {
      "image/png": "[encoded data removed]",
      "text/plain": [
       "<matplotlib.figure.Figure at 0xd024198>"
      ]
     },
     "metadata": {},
     "output_type": "display_data"
    }
   ],
   "source": [
    "# Test absolute loss\n",
    "run(loss_func=functools.partial(poly_loss, p=1, binary_classification=True))"
   ]
  },
  {
   "cell_type": "markdown",
   "metadata": {},
   "source": [
    "## $0-1$ loss\n",
    "\n",
    "$\\ell_{01}(y,\\hat{y}) \\triangleq \\mathbb{1}(y \\neq \\hat{y})$."
   ]
  },
  {
   "cell_type": "code",
   "execution_count": 59,
   "metadata": {
    "collapsed": true
   },
   "outputs": [],
   "source": [
    "import functools\n",
    "\n",
    "def zerone_loss(y, y_hat, binary_classification=False):\n",
    "    if binary_classification:\n",
    "        assert set(y.ravel()).issubset(set((0,1)))\n",
    "        y_hat = y_hat >= 0.5\n",
    "    return y != y_hat"
   ]
  },
  {
   "cell_type": "code",
   "execution_count": 60,
   "metadata": {},
   "outputs": [
    {
     "name": "stdout",
     "output_type": "stream",
     "text": [
      "Tree (train): 0.0269 (error) = 0.0000 (bias) + 0.0269 (var), actual variance = 0.0223\n",
      "Tree (train): 0.0916 (error) = 0.0877 (bias) + 0.0039 (var), actual variance = 0.0427\n",
      "Bagging (Tree) (train): 0.0232 (error) = 0.0000 (bias) + 0.0232 (var), actual variance = 0.0178\n",
      "Bagging (Tree) (train): 0.0874 (error) = 0.0702 (bias) + 0.0172 (var), actual variance = 0.0330\n"
     ]
    },
    {
     "data": {
      "image/png": "[encoded data removed]",
      "text/plain": [
       "<matplotlib.figure.Figure at 0xb86d7f0>"
      ]
     },
     "metadata": {},
     "output_type": "display_data"
    }
   ],
   "source": [
    "# Test 0-1 loss\n",
    "run(loss_func=functools.partial(zerone_loss, binary_classification=True))"
   ]
  },
  {
   "cell_type": "markdown",
   "metadata": {},
   "source": [
    "## Hinge loss\n",
    "\n",
    "$\\ell_{h}(y,\\hat{y}) \\triangleq \\max(0, 1 - y\\hat{y})$ where $y\\in\\{\\pm 1\\},\\,\\hat{y}\\in\\reals$."
   ]
  },
  {
   "cell_type": "code",
   "execution_count": 61,
   "metadata": {},
   "outputs": [],
   "source": [
    "def hinge_loss(y, y_hat):\n",
    "    assert set(y.ravel()).issubset(set((0,1)))\n",
    "    y = 2 * y - 1   # map (0,1) to (-1,+1)    \n",
    "    return np.maximum(0, 1 - y * y_hat)"
   ]
  }
 ],
 "metadata": {
  "kernelspec": {
   "display_name": "Python 2",
   "language": "python",
   "name": "python2"
  },
  "language_info": {
   "codemirror_mode": {
    "name": "ipython",
    "version": 2
   },
   "file_extension": ".py",
   "mimetype": "text/x-python",
   "name": "python",
   "nbconvert_exporter": "python",
   "pygments_lexer": "ipython2",
   "version": "2.7.13"
  }
 },
 "nbformat": 4,
 "nbformat_minor": 1
}
